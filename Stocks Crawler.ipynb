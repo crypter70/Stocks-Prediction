{
 "cells": [
  {
   "cell_type": "markdown",
   "id": "e95fd3fc",
   "metadata": {},
   "source": [
    "# Import Library"
   ]
  },
  {
   "cell_type": "code",
   "execution_count": 1,
   "id": "d7b7d536",
   "metadata": {},
   "outputs": [],
   "source": [
    "import yfinance as yf\n",
    "import pandas as pd\n",
    "from datetime import datetime as dt\n",
    "import datetime\n",
    "import os"
   ]
  },
  {
   "cell_type": "markdown",
   "id": "92ab669c",
   "metadata": {},
   "source": [
    "# Price Data Crawling"
   ]
  },
  {
   "cell_type": "code",
   "execution_count": null,
   "id": "a4373914",
   "metadata": {},
   "outputs": [],
   "source": [
    "# initialize start and end date of data that required\n",
    "start = '2020-01-01'\n",
    "end = '2022-12-31'\n",
    "\n",
    "now = datetime.datetime.today().strftime('%d_%m_%Y')\n",
    "\n",
    "# create new dir\n",
    "folder_name = \"data\"\n",
    "os.makedirs(folder_name)\n",
    "\n",
    "# initialize stock code\n",
    "# JK refers to Jakarta which is the code of stocks in Indonesia Stock Exchange(IDX)\n",
    "stock_code = ['BBCA.JK', 'BBNI.JK', 'BUMI.JK', 'INDY.JK', 'ADRO.JK']\n",
    "\n",
    "for stock in stock_code:\n",
    "    data = yf.download(stock, start=start, end=end)\n",
    "    data = data[['Open', 'High', 'Low', 'Adj Close', 'Volume']]\n",
    "    title = stock.replace('JK', '').replace('.', '')\n",
    "    df = pd.DataFrame(data)\n",
    "    df.to_csv(f'{folder_name}//{title}_{now}.csv')"
   ]
  }
 ],
 "metadata": {
  "kernelspec": {
   "display_name": "tf",
   "language": "python",
   "name": "tf"
  },
  "language_info": {
   "codemirror_mode": {
    "name": "ipython",
    "version": 3
   },
   "file_extension": ".py",
   "mimetype": "text/x-python",
   "name": "python",
   "nbconvert_exporter": "python",
   "pygments_lexer": "ipython3",
   "version": "3.9.15"
  }
 },
 "nbformat": 4,
 "nbformat_minor": 5
}
